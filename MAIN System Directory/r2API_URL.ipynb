{
 "cells": [
  {
   "cell_type": "code",
   "execution_count": 2,
   "id": "87b62b0a-3424-4218-a042-b4721d1f55ee",
   "metadata": {
    "tags": []
   },
   "outputs": [
    {
     "name": "stdout",
     "output_type": "stream",
     "text": [
      "[{'confidence': 0.7061528696771455, 'prediction': 'rugby ball', 'timestamp': '2024-12-01 02:00:12', 'url': 'https://nwscdn.com/media/catalog/product/d/o/dominate-rugby-ball_7.jpg'}, {'error': 'Failed to fetch the image.', 'url': 'https://upload.wikimedia.org/wikipedia/commons/d/da/Strawberry_ice_cream_cone_(5076899310).jpg'}, {'confidence': 0.9514120108073807, 'prediction': 'sunflower', 'timestamp': '2024-12-01 02:00:15', 'url': 'https://th.bing.com/th/id/R.f2dc4f21206b71a5eba54140978c3de7?rik=Nsgb%2fnsAroxFjA&riu=http%3a%2f%2fupload.wikimedia.org%2fwikipedia%2fcommons%2f4%2f40%2fSunflower_sky_backdrop.jpg&ehk=javXpJdxkGrYRATInZzArkGEkKIDYXNofLUSkyo%2fSLA%3d&risl=&pid=ImgRaw&r=0'}]\n"
     ]
    }
   ],
   "source": [
    "import requests\n",
    "\n",
    "url = \"http://127.0.0.1:5003/predict\"\n",
    "payload = {\n",
    "    \"image_urls\": [\n",
    "        \"https://nwscdn.com/media/catalog/product/d/o/dominate-rugby-ball_7.jpg\",\n",
    "        \"https://upload.wikimedia.org/wikipedia/commons/d/da/Strawberry_ice_cream_cone_(5076899310).jpg\",\n",
    "        \"https://th.bing.com/th/id/R.f2dc4f21206b71a5eba54140978c3de7?rik=Nsgb%2fnsAroxFjA&riu=http%3a%2f%2fupload.wikimedia.org%2fwikipedia%2fcommons%2f4%2f40%2fSunflower_sky_backdrop.jpg&ehk=javXpJdxkGrYRATInZzArkGEkKIDYXNofLUSkyo%2fSLA%3d&risl=&pid=ImgRaw&r=0\"\n",
    "    ]\n",
    "}\n",
    "headers = {'Content-Type': 'application/json'}\n",
    "\n",
    "response = requests.post(url, json=payload, headers=headers)\n",
    "print(response.json())\n",
    "\n",
    "#for r2fineAPI.py"
   ]
  },
  {
   "cell_type": "code",
   "execution_count": null,
   "id": "049c7a14-5f3e-4e78-b31d-c3926cb085d6",
   "metadata": {},
   "outputs": [],
   "source": []
  }
 ],
 "metadata": {
  "kernelspec": {
   "display_name": "Python 3 (ipykernel)",
   "language": "python",
   "name": "python3"
  },
  "language_info": {
   "codemirror_mode": {
    "name": "ipython",
    "version": 3
   },
   "file_extension": ".py",
   "mimetype": "text/x-python",
   "name": "python",
   "nbconvert_exporter": "python",
   "pygments_lexer": "ipython3",
   "version": "3.11.4"
  }
 },
 "nbformat": 4,
 "nbformat_minor": 5
}
